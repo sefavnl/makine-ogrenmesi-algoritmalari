{
 "cells": [
  {
   "cell_type": "code",
   "execution_count": 25,
   "id": "0ce6a4f9",
   "metadata": {},
   "outputs": [],
   "source": [
    "from sklearn.datasets import load_iris\n",
    "from sklearn.model_selection import train_test_split\n",
    "from sklearn.ensemble import RandomForestClassifier\n",
    "from sklearn.naive_bayes import GaussianNB\n",
    "from sklearn.svm import SVC\n",
    "from sklearn.linear_model import LogisticRegression\n",
    "from sklearn.neighbors import KNeighborsClassifier\n",
    "from sklearn.metrics import accuracy_score"
   ]
  },
  {
   "cell_type": "code",
   "execution_count": 27,
   "id": "2edce0d5",
   "metadata": {},
   "outputs": [],
   "source": [
    "iris = load_iris()\n",
    "X = iris.data\n",
    "y = iris.target"
   ]
  },
  {
   "cell_type": "code",
   "execution_count": 30,
   "id": "39a4bf60",
   "metadata": {},
   "outputs": [],
   "source": [
    "X_train, X_test, y_train, y_test = train_test_split(X, y, test_size=0.2, random_state=42)\n"
   ]
  },
  {
   "cell_type": "code",
   "execution_count": 31,
   "id": "0bec4e98",
   "metadata": {},
   "outputs": [],
   "source": [
    "random_forest = RandomForestClassifier()\n",
    "naive_bayes = GaussianNB()\n",
    "logistic_regression = LogisticRegression()\n",
    "knn = KNeighborsClassifier()\n",
    "svm = SVC()\n",
    "random_forest.fit(X_train, y_train)\n",
    "naive_bayes.fit(X_train, y_train)\n",
    "logistic_regression.fit(X_train, y_train)\n",
    "knn.fit(X_train, y_train)\n",
    "svm.fit(X_train,y_train)\n",
    "kmeans = KMeans(n_clusters=2, random_state=42)\n",
    "kmeans.fit(X_train)\n"
   ]
  },
  {
   "cell_type": "code",
   "execution_count": 33,
   "id": "e95cbb4f",
   "metadata": {},
   "outputs": [
    {
     "name": "stderr",
     "output_type": "stream",
     "text": [
      "C:\\Users\\dteme\\anaconda3\\lib\\site-packages\\sklearn\\neighbors\\_classification.py:228: FutureWarning: Unlike other reduction functions (e.g. `skew`, `kurtosis`), the default behavior of `mode` typically preserves the axis it acts along. In SciPy 1.11.0, this behavior will change: the default value of `keepdims` will become False, the `axis` over which the statistic is taken will be eliminated, and the value None will no longer be accepted. Set `keepdims` to True or False to avoid this warning.\n",
      "  mode, _ = stats.mode(_y[neigh_ind, k], axis=1)\n"
     ]
    }
   ],
   "source": [
    "rf_predictions = random_forest.predict(X_test)\n",
    "nb_predictions = naive_bayes.predict(X_test)\n",
    "lr_predictions = logistic_regression.predict(X_test)\n",
    "knn_predictions = knn.predict(X_test)\n",
    "km_predictions = kmeans.predict(X_test)\n",
    "svm_predictions = svm.predict(X_test)\n",
    "rf_accuracy = accuracy_score(y_test, rf_predictions)\n",
    "nb_accuracy = accuracy_score(y_test, nb_predictions)\n",
    "lr_accuracy = accuracy_score(y_test, lr_predictions)\n",
    "knn_accuracy = accuracy_score(y_test, knn_predictions)\n",
    "km_accuracy = accuracy_score(y_test, km_predictions)\n",
    "svm_accuracy = accuracy_score(y_test,svm_predictions)"
   ]
  },
  {
   "cell_type": "code",
   "execution_count": 35,
   "id": "2412489d",
   "metadata": {},
   "outputs": [
    {
     "name": "stdout",
     "output_type": "stream",
     "text": [
      "Random Forest Accuracy: 1.0\n",
      "Naive Bayes Accuracy: 1.0\n",
      "Logistic Regression Accuracy: 1.0\n",
      "KNN Accuracy: 1.0\n",
      "KMeans Accuracy: 0.6333333333333333\n",
      "SVM accuracy: 1.0\n"
     ]
    }
   ],
   "source": [
    "print(\"Random Forest Accuracy:\", rf_accuracy)\n",
    "print(\"Naive Bayes Accuracy:\", nb_accuracy)\n",
    "print(\"Logistic Regression Accuracy:\", lr_accuracy)\n",
    "print(\"KNN Accuracy:\", knn_accuracy)\n",
    "print(\"KMeans Accuracy:\", km_accuracy)\n",
    "print(\"SVM accuracy:\",svm_accuracy)"
   ]
  },
  {
   "cell_type": "code",
   "execution_count": 38,
   "id": "e1a90867",
   "metadata": {},
   "outputs": [],
   "source": [
    "best_accuracy = max(rf_accuracy, nb_accuracy, lr_accuracy, knn_accuracy, km_accuracy)\n",
    "best_algorithm = {\n",
    "    rf_accuracy: \"Random Forest\",\n",
    "    nb_accuracy: \"Naive Bayes\",\n",
    "    lr_accuracy: \"Logistic Regression\",\n",
    "    knn_accuracy: \"KNN\",\n",
    "    km_accuracy: \"KMeans\",\n",
    "    svm_accuracy: \"SVM\"\n",
    "}[best_accuracy]"
   ]
  },
  {
   "cell_type": "code",
   "execution_count": 37,
   "id": "b366364a",
   "metadata": {},
   "outputs": [
    {
     "name": "stdout",
     "output_type": "stream",
     "text": [
      "Best Algorithm: SVM with accuracy: 1.0\n"
     ]
    }
   ],
   "source": [
    "print(\"Best Algorithm:\", best_algorithm, \"with accuracy:\", best_accuracy)"
   ]
  },
  {
   "cell_type": "code",
   "execution_count": null,
   "id": "338ea1d4",
   "metadata": {},
   "outputs": [],
   "source": []
  }
 ],
 "metadata": {
  "kernelspec": {
   "display_name": "Python 3 (ipykernel)",
   "language": "python",
   "name": "python3"
  },
  "language_info": {
   "codemirror_mode": {
    "name": "ipython",
    "version": 3
   },
   "file_extension": ".py",
   "mimetype": "text/x-python",
   "name": "python",
   "nbconvert_exporter": "python",
   "pygments_lexer": "ipython3",
   "version": "3.11.5"
  }
 },
 "nbformat": 4,
 "nbformat_minor": 5
}
